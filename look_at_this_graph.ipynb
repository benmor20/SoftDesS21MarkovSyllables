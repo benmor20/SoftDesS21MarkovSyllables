{
 "cells": [
  {
   "cell_type": "code",
   "execution_count": 1,
   "metadata": {},
   "outputs": [],
   "source": [
    "%load_ext autoreload\n",
    "%autoreload 2\n",
    "%matplotlib inline"
   ]
  },
  {
   "cell_type": "code",
   "execution_count": 4,
   "metadata": {},
   "outputs": [],
   "source": [
    "import get_text\n",
    "import validators\n",
    "texts = get_text.get_texts(\"all\")"
   ]
  },
  {
   "source": [
    "We found a number of selections of texts, including books from Project Gutenberg and, and we created a dictionary of thoese texts in `get_text.py`, which contains helper functions to get those books as strings for analysis."
   ],
   "cell_type": "markdown",
   "metadata": {}
  },
  {
   "cell_type": "code",
   "execution_count": 5,
   "metadata": {},
   "outputs": [
    {
     "output_type": "stream",
     "name": "stdout",
     "text": [
      "Texts in the dictionary are: ['Romeo and Juliet', \"Finnegan's Wake\", 'Great Gatsby', 'Canterbury Tales', 'Iliad', 'Monty Python']\n"
     ]
    }
   ],
   "source": [
    "from get_text import books\n",
    "keys = books.keys()\n",
    "print(f\"Texts in the dictionary are: {list(keys)}\")"
   ]
  },
  {
   "source": [
    "If we want to add a limited selection of texts to our dictionary for analysis, or if we want to add additional texts to our we can use the function `add_text`."
   ],
   "cell_type": "markdown",
   "metadata": {}
  },
  {
   "cell_type": "code",
   "execution_count": 6,
   "metadata": {},
   "outputs": [
    {
     "output_type": "stream",
     "name": "stdout",
     "text": [
      "{'Romeo and Juliet': 'http://www.gutenberg.org/ebooks/1777.txt.utf-8', \"Finnegan's Wake\": 'https://archive.org/stream/finneganswake00joycuoft/finneganswake00joycuoft_djvu.txt', 'Great Gatsby': 'http://www.gutenberg.org/files/64317/64317-0.txt', 'Canterbury Tales': 'http://www.gutenberg.org/cache/epub/2383/pg2383.txt', 'Iliad': 'http://www.gutenberg.org/files/6150/6150-0.txt', 'Monty Python': 'https://raw.githubusercontent.com/teropa/nlp/master/resources/corpora/webtext/grail.txt'}\n"
     ]
    }
   ],
   "source": [
    "limited_selections=[\"Monty Python\", \"Iliad\", \"Romeo and Juliet\", \"Great Gatsby\"]\n",
    "for selection in limited_selections:\n",
    "    corpora = get_text.add_text(selection)"
   ]
  },
  {
   "source": [
    "Next, we use functions from `helper.py` to give some data about our "
   ],
   "cell_type": "markdown",
   "metadata": {}
  },
  {
   "source": [
    "from urllib import request\n",
    "import markov_with_syllables as markov\n",
    "import syllablizer\n",
    "analyze_text = \"Romeo and Juliet\"\n",
    "MAX_WORDS = 10000"
   ],
   "cell_type": "code",
   "metadata": {},
   "execution_count": 8,
   "outputs": [
    {
     "output_type": "error",
     "ename": "NameError",
     "evalue": "name 'markov' is not defined",
     "traceback": [
      "\u001b[0;31m---------------------------------------------------------------------------\u001b[0m",
      "\u001b[0;31mNameError\u001b[0m                                 Traceback (most recent call last)",
      "\u001b[0;32m<ipython-input-8-0167c8c7c3a2>\u001b[0m in \u001b[0;36m<module>\u001b[0;34m\u001b[0m\n\u001b[1;32m      1\u001b[0m \u001b[0manalyze_text\u001b[0m \u001b[0;34m=\u001b[0m \u001b[0;34m\"Romeo and Juliet\"\u001b[0m\u001b[0;34m\u001b[0m\u001b[0;34m\u001b[0m\u001b[0m\n\u001b[1;32m      2\u001b[0m \u001b[0mMAX_WORDS\u001b[0m \u001b[0;34m=\u001b[0m \u001b[0;36m10000\u001b[0m\u001b[0;34m\u001b[0m\u001b[0;34m\u001b[0m\u001b[0m\n\u001b[0;32m----> 3\u001b[0;31m \u001b[0msylls\u001b[0m \u001b[0;34m=\u001b[0m \u001b[0mmarkov\u001b[0m\u001b[0;34m.\u001b[0m\u001b[0mbuild_next_syllables\u001b[0m\u001b[0;34m(\u001b[0m\u001b[0mcorpora\u001b[0m\u001b[0;34m[\u001b[0m\u001b[0manalyze_text\u001b[0m\u001b[0;34m]\u001b[0m\u001b[0;34m)\u001b[0m\u001b[0;34m\u001b[0m\u001b[0;34m\u001b[0m\u001b[0m\n\u001b[0m\u001b[1;32m      4\u001b[0m \u001b[0mall_words\u001b[0m \u001b[0;34m=\u001b[0m \u001b[0mset\u001b[0m\u001b[0;34m(\u001b[0m\u001b[0mmarkov\u001b[0m\u001b[0;34m.\u001b[0m\u001b[0mbuild_word_list\u001b[0m\u001b[0;34m(\u001b[0m\u001b[0manalyze_text\u001b[0m\u001b[0;34m)\u001b[0m\u001b[0;34m)\u001b[0m\u001b[0;34m\u001b[0m\u001b[0;34m\u001b[0m\u001b[0m\n\u001b[1;32m      5\u001b[0m \u001b[0mnum_words\u001b[0m \u001b[0;34m=\u001b[0m \u001b[0;36m0\u001b[0m\u001b[0;34m\u001b[0m\u001b[0;34m\u001b[0m\u001b[0m\n",
      "\u001b[0;31mNameError\u001b[0m: name 'markov' is not defined"
     ]
    }
   ]
  },
  {
   "cell_type": "code",
   "execution_count": null,
   "metadata": {},
   "outputs": [],
   "source": []
  }
 ],
 "metadata": {
  "kernelspec": {
   "display_name": "Python 3",
   "language": "python",
   "name": "python3"
  },
  "language_info": {
   "codemirror_mode": {
    "name": "ipython",
    "version": 3
   },
   "file_extension": ".py",
   "mimetype": "text/x-python",
   "name": "python",
   "nbconvert_exporter": "python",
   "pygments_lexer": "ipython3",
   "version": "3.8.5-final"
  }
 },
 "nbformat": 4,
 "nbformat_minor": 4
}